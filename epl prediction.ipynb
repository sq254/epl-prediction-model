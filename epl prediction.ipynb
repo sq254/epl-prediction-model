import pandas as pd
import numpy as np
from sklearn.model_selection import train_test_split
from sklearn.preprocessing import StandardScaler
from sklearn.ensemble import RandomForestClassifier
from sklearn.metrics import accuracy_score, classification_report

# Load the data
# Replace with the path to your CSV file
df = pd.read_csv('/content/drive/My Drive/EPL Standings 2000-2022.csv')

# Display the first few rows and basic information about the dataset
print(df.head())
print(df.info())

# Data Preprocessing
def preprocess_data(df):
    features = ['Pos', 'Pld', 'W', 'D', 'L', 'GF', 'GA', 'GD', 'Pts']
    matches = []

    for season in df['Season'].unique():
        season_data = df[df['Season'] == season]
        teams = season_data['Team'].unique()

        for home_team in teams:
            for away_team in teams:
                if home_team != away_team:
                    home_stats = season_data[season_data['Team'] == home_team].iloc[0]
                    away_stats = season_data[season_data['Team'] == away_team].iloc[0]

                    match = [season, home_team, away_team]
                    for feature in features:
                        match.append(home_stats[feature])
                        match.append(away_stats[feature])

                    # Determine match outcome (1: Home win, 0: Draw, -1: Away win)
                    if home_stats['Pts'] > away_stats['Pts']:
                        match.append(1)
                    elif home_stats['Pts'] < away_stats['Pts']:
                        match.append(-1)
                    else:
                        match.append(0)

                    matches.append(match)

    columns = ['Season', 'HomeTeam', 'AwayTeam']
    for feature in features:
        columns.append(f'Home_{feature}')
        columns.append(f'Away_{feature}')
    columns.append('Outcome')

    matches_df = pd.DataFrame(matches, columns=columns)
    return matches_df

# Preprocess the data
matches_df = preprocess_data(df)

# Prepare features and target
X = matches_df.drop(['Season', 'HomeTeam', 'AwayTeam', 'Outcome'], axis=1)
y = matches_df['Outcome']

# Split the data into training and testing sets
X_train, X_test, y_train, y_test = train_test_split(X, y, test_size=0.2, random_state=42)

# Scale the features
scaler = StandardScaler()
X_train_scaled = scaler.fit_transform(X_train)
X_test_scaled = scaler.transform(X_test)

# Train the model
model = RandomForestClassifier(n_estimators=100, random_state=42)
model.fit(X_train_scaled, y_train)

# Make predictions
y_pred = model.predict(X_test_scaled)

# Evaluate the model
accuracy = accuracy_score(y_test, y_pred)
print(f"Accuracy: {accuracy:.2f}")
print("\nClassification Report:")
print(classification_report(y_test, y_pred, target_names=['Away Win', 'Draw', 'Home Win']))

# Function to predict match outcome
def predict_match(home_team, away_team):
    latest_season = df['Season'].max()
    home_stats = df[(df['Team'] == home_team) & (df['Season'] == latest_season)]
    away_stats = df[(df['Team'] == away_team) & (df['Season'] == latest_season)]

    if home_stats.empty or away_stats.empty:
        print(f"Data not found for {home_team} or {away_team} in the latest season")
        return

    features = ['Pos', 'Pld', 'W', 'D', 'L', 'GF', 'GA', 'GD', 'Pts']
    match_features = []

    for feature in features:
        match_features.append(home_stats[feature].iloc[0])
        match_features.append(away_stats[feature].iloc[0])

    match_features = np.array(match_features).reshape(1, -1)
    match_features_scaled = scaler.transform(match_features)

    prediction = model.predict(match_features_scaled)[0]
    probabilities = model.predict_proba(match_features_scaled)[0]

    if prediction == 1:
        result = "Home Win"
    elif prediction == 0:
        result = "Draw"
    else:
        result = "Away Win"

    print(f"\nPredicted outcome: {result}")
    print(f"Probabilities: Home Win: {probabilities[2]:.2f}, Draw: {probabilities[1]:.2f}, Away Win: {probabilities[0]:.2f}")

# Function to get user input and predict match outcome
def predict_match_interactive():
    latest_season = df['Season'].max()
    available_teams = df[df['Season'] == latest_season]['Team'].unique()

    print("\nAvailable teams:")
    print(', '.join(available_teams))

    while True:
        home_team = input("\nEnter the home team (or 'q' to quit): ")
        if home_team.lower() == 'q':
            break

        if home_team not in available_teams:
            print("Invalid home team. Please try again.")
            continue

        away_team = input("Enter the away team: ")
        if away_team not in available_teams:
            print("Invalid away team. Please try again.")
            continue

        if home_team == away_team:
            print("Home team and away team cannot be the same. Please try again.")
            continue

        predict_match(home_team, away_team)

# Run the interactive prediction
predict_match_interactive()
